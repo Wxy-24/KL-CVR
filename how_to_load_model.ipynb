{
 "cells": [
  {
   "cell_type": "markdown",
   "id": "2a120ba1",
   "metadata": {},
   "source": [
    "# Install CLIP package"
   ]
  },
  {
   "cell_type": "code",
   "execution_count": null,
   "id": "4c0aaa50",
   "metadata": {},
   "outputs": [],
   "source": [
    "! pip install git+https://github.com/openai/CLIP.git      "
   ]
  },
  {
   "cell_type": "markdown",
   "id": "7a5450aa",
   "metadata": {},
   "source": [
    "# How to load model"
   ]
  },
  {
   "cell_type": "code",
   "execution_count": 34,
   "id": "30a431d5",
   "metadata": {},
   "outputs": [
    {
     "name": "stdout",
     "output_type": "stream",
     "text": [
      "input.shape: torch.Size([1, 3, 224, 224])\n",
      "embedding.shape: torch.Size([1, 768])\n"
     ]
    }
   ],
   "source": [
    "import clip\n",
    "import torch\n",
    "from PIL import Image\n",
    "\n",
    "model, preprocess = clip.load(\"ViT-B/16\", device=\"cuda\")\n",
    "vit=model.visual.float()\n",
    "vit.load_state_dict(torch.load('C:\\\\Users\\\\gserieys\\\\Downloads\\\\ViT-B-16.ckpt'))\n",
    "vit.proj=None  #we use embedding from penultimate layer without projection for image retrieval\n",
    "\n",
    "\n",
    "img = preprocess(Image.open(\"C:\\\\Users\\\\gserieys\\\\Downloads\\\\958038055.jpg\")).unsqueeze(0).cuda()\n",
    "# img=torch.randn(1,3,224,224).cuda()\n",
    "output=vit(img)\n",
    "\n",
    "print('input.shape:',img.shape)\n",
    "print('embedding.shape:',output.shape)"
   ]
  }
 ],
 "metadata": {
  "kernelspec": {
   "display_name": "Python 3 (ipykernel)",
   "language": "python",
   "name": "python3"
  },
  "language_info": {
   "codemirror_mode": {
    "name": "ipython",
    "version": 3
   },
   "file_extension": ".py",
   "mimetype": "text/x-python",
   "name": "python",
   "nbconvert_exporter": "python",
   "pygments_lexer": "ipython3",
   "version": "3.9.7"
  }
 },
 "nbformat": 4,
 "nbformat_minor": 5
}
